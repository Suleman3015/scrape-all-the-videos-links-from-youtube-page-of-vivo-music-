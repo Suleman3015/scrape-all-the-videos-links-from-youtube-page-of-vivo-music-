{
 "cells": [
  {
   "cell_type": "code",
   "execution_count": 5,
   "metadata": {},
   "outputs": [],
   "source": [
    "import bs4\n",
    "import requests\n",
    "from bs4 import BeautifulSoup"
   ]
  },
  {
   "cell_type": "code",
   "execution_count": 6,
   "metadata": {},
   "outputs": [],
   "source": [
    "url = \"https://www.youtube.com/user/VEVO/videos\""
   ]
  },
  {
   "cell_type": "code",
   "execution_count": 7,
   "metadata": {},
   "outputs": [],
   "source": [
    "data = requests.get(url)\n",
    "soup = bs4.BeautifulSoup(data.text,'html.parser')\n"
   ]
  },
  {
   "cell_type": "code",
   "execution_count": 8,
   "metadata": {},
   "outputs": [
    {
     "name": "stdout",
     "output_type": "stream",
     "text": [
      "https://www.youtube.com/watch?v=b0GhWAkZ-ck\n",
      "https://www.youtube.com/watch?v=b0GhWAkZ-ck\n",
      "https://www.youtube.com/watch?v=btDuOKwsMR0\n",
      "https://www.youtube.com/watch?v=btDuOKwsMR0\n",
      "https://www.youtube.com/watch?v=PSWNt5IT23c\n",
      "https://www.youtube.com/watch?v=PSWNt5IT23c\n",
      "https://www.youtube.com/watch?v=vtpH2DUKWgg\n",
      "https://www.youtube.com/watch?v=vtpH2DUKWgg\n",
      "https://www.youtube.com/watch?v=ZtnXBVpFyXk\n",
      "https://www.youtube.com/watch?v=ZtnXBVpFyXk\n",
      "https://www.youtube.com/watch?v=i6BB9m8oiCk\n",
      "https://www.youtube.com/watch?v=i6BB9m8oiCk\n",
      "https://www.youtube.com/watch?v=t-SSHOTxiaY\n",
      "https://www.youtube.com/watch?v=t-SSHOTxiaY\n",
      "https://www.youtube.com/watch?v=UMOWdICDDHQ\n",
      "https://www.youtube.com/watch?v=UMOWdICDDHQ\n",
      "https://www.youtube.com/watch?v=RxcA6Ki-luo\n",
      "https://www.youtube.com/watch?v=RxcA6Ki-luo\n",
      "https://www.youtube.com/watch?v=oSuEqH2tOK0\n",
      "https://www.youtube.com/watch?v=oSuEqH2tOK0\n",
      "https://www.youtube.com/watch?v=LLXv75P_3_A\n",
      "https://www.youtube.com/watch?v=LLXv75P_3_A\n",
      "https://www.youtube.com/watch?v=lomMJnrWV8I\n",
      "https://www.youtube.com/watch?v=lomMJnrWV8I\n",
      "https://www.youtube.com/watch?v=DB69WRJQNKg\n",
      "https://www.youtube.com/watch?v=DB69WRJQNKg\n",
      "https://www.youtube.com/watch?v=29jlo7eQ1zw\n",
      "https://www.youtube.com/watch?v=29jlo7eQ1zw\n",
      "https://www.youtube.com/watch?v=CY5N-vi-xm8\n",
      "https://www.youtube.com/watch?v=CY5N-vi-xm8\n",
      "https://www.youtube.com/watch?v=kk5J33wXKRs\n",
      "https://www.youtube.com/watch?v=kk5J33wXKRs\n",
      "https://www.youtube.com/watch?v=wAIjidXgeV0\n",
      "https://www.youtube.com/watch?v=wAIjidXgeV0\n",
      "https://www.youtube.com/watch?v=5wX41SbIbY0\n",
      "https://www.youtube.com/watch?v=5wX41SbIbY0\n",
      "https://www.youtube.com/watch?v=b1j3R5OEWN0\n",
      "https://www.youtube.com/watch?v=b1j3R5OEWN0\n",
      "https://www.youtube.com/watch?v=4QamghhVi18\n",
      "https://www.youtube.com/watch?v=4QamghhVi18\n",
      "https://www.youtube.com/watch?v=KnFQ7fIqa18\n",
      "https://www.youtube.com/watch?v=KnFQ7fIqa18\n",
      "https://www.youtube.com/watch?v=NHKaVTvHZuA\n",
      "https://www.youtube.com/watch?v=NHKaVTvHZuA\n",
      "https://www.youtube.com/watch?v=bwWeWbGyGt8\n",
      "https://www.youtube.com/watch?v=bwWeWbGyGt8\n",
      "https://www.youtube.com/watch?v=6mknPT9sYlU\n",
      "https://www.youtube.com/watch?v=6mknPT9sYlU\n",
      "https://www.youtube.com/watch?v=Qp1HY1ZlH4M\n",
      "https://www.youtube.com/watch?v=Qp1HY1ZlH4M\n",
      "https://www.youtube.com/watch?v=wFsWTP4oJxo\n",
      "https://www.youtube.com/watch?v=wFsWTP4oJxo\n",
      "https://www.youtube.com/watch?v=rEFFL1DAikE\n",
      "https://www.youtube.com/watch?v=rEFFL1DAikE\n",
      "https://www.youtube.com/watch?v=nT2hgDSP6Ao\n",
      "https://www.youtube.com/watch?v=nT2hgDSP6Ao\n",
      "https://www.youtube.com/watch?v=IDVNHWc7SYc\n",
      "https://www.youtube.com/watch?v=IDVNHWc7SYc\n"
     ]
    }
   ],
   "source": [
    "for link in soup.find_all('a'):\n",
    "    link = link.get(\"href\")\n",
    "    if link[0:3]==\"/wa\":\n",
    "        print(\"https://www.youtube.com\" + link)"
   ]
  },
  {
   "cell_type": "code",
   "execution_count": null,
   "metadata": {},
   "outputs": [],
   "source": []
  }
 ],
 "metadata": {
  "kernelspec": {
   "display_name": "Python 3",
   "language": "python",
   "name": "python3"
  },
  "language_info": {
   "codemirror_mode": {
    "name": "ipython",
    "version": 3
   },
   "file_extension": ".py",
   "mimetype": "text/x-python",
   "name": "python",
   "nbconvert_exporter": "python",
   "pygments_lexer": "ipython3",
   "version": "3.6.8"
  }
 },
 "nbformat": 4,
 "nbformat_minor": 2
}
